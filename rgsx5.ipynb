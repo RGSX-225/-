import time

def Factorial1(n): #迭代
    sum=1
    for i in range(n):
        sum*=i+1
    return sum

def Factorial2(n):#递归
    if n==1:
        return n
    else:
        return n*Factorial2(n-1)

start_time=time.time()
print(Factorial1(500))
end_time=time.time()
print("迭代的运行时间为",end_time-start_time)
start_time=time.time()
print(Factorial2(500))
end_time=time.time()
print("递归的运行时间为",end_time-start_time)

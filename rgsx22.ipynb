import re
print(dir(re))
#正则表达式的内置函数有['A', 'ASCII', 'DEBUG', 'DOTALL', 'I', 'IGNORECASE', 'L', 'LOCALE', 'M', 'MULTILINE', 'S', 'Scanner', 'T', 'TEMPLATE', 'U', 'UNICODE', 'VERBOSE', 'X', '_MAXCACHE', '__all__', '__builtins__', '__cached__', '__doc__', '__file__', '__loader__', '__name__', '__package__', '__spec__', '__version__', '_alphanum_bytes', '_alphanum_str', '_cache', '_cache_repl', '_compile', '_compile_repl', '_expand', '_locale', '_pattern_type', '_pickle', '_subx', 'compile', 'copyreg', 'error', 'escape', 'findall', 'finditer', 'fullmatch', 'match', 'purge', 'search', 'split', 'sre_compile', 'sre_parse', 'sub', 'subn', 'sys', 'template']
string="软工实习225-向麒麟，潘媚，杨岚雅鸭;软工实习非225-郭瑾鸭"
pattern=re.compile("软工实习.*?鸭",re.S)
print(pattern)
#将正则字符串编译成正则对象，以便于用该匹配模式
result=re.findall(pattern,string)
print(result)
#返回string中所有与pattern相匹配的全部字符串，得到数组
result=re.match(pattern,string)
print(result.string,result.re,result.group(),type(result))
#返回string中第一个与pattern相匹配的字符串，返回<class '_sre.SRE_Match'>类型,可通过string,re,group等得到相关数据
result=re.split(pattern,string)
print(result)
#将string中所有与pattern匹配的东西作为分割符，继而将字符串分割为一张表
result=re.sub(pattern,"不学了",string)
print(result)
#将string中所有与pattern相匹配的字符串替换为第二个参数

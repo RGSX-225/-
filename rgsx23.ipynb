import requests
import re
url="https://www.baidu.com/s?rtt=1&bsst=1&cl=2&tn=news&word=225"
#网站为百度新闻搜索关键词“225”
headers={
    "User-Agent": "Mozilla/5.0 (Windows NT 10.0; Win64; x64) AppleWebKit/537.36 (KHTML, like Gecko) Chrome/68.0.3440.75 Safari/537.36"
}
response=requests.get(url,headers=headers)
html=response.text
result=re.findall('<h3 class="c-title">.*?<a href="(.*?)"',html,re.S)
print(result)
#提取第一页中搜索到的十条结果的url

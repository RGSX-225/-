import pandas as pd
import re
df = pd.read_excel('example_re.xlsx',header=None)
text_data=[]
for i in df.index.values:
    row_data=df.ix[i].to_dict()
    text_data.append(row_data)
for i in range(len(text_data)):
    str1 = str(text_data[i]).split("|")
    result1= re.search("EN.*?:(.*)", str1[0])
    r1="基因为"+str(result1.group(1))
    for j in range(1,len(str1)-1):
        result2= re.search("(EN.*?\d+):(.*?)\(.*?;.*?;.*?;(.*?);(.*?)\)", str1[j])
        r1=r1+"转录本为"+str(result2.group(1))+"同义非同义为"+str(result2.group(2))+"蛋白转换为"+str(result2.group(3))+"密码子转换为"+str(result2.group(4))
    with open("example.txt", "a", encoding="utf-8") as f:
        f.write(r1)
        f.write("\n")

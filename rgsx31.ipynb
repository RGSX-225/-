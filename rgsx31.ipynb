import xlrd

class VIP:
    def __init__(self,num,GPS,lim,begin,value,grade):
        self.num=num
        self.__GPS=GPS     #定义私有对象不能被外部访问
        self.lim=lim
        self.begin=begin
        self.value=value
        self.grade=grade

class VIPNUM():
    VIPs=[]
    key=0
    def __init__(self):
        f = xlrd.open_workbook("VIP_example.xlsx")
        table = f.sheets()[0]
        nrows = table.nrows
        ncols = table.ncols
        for k in range(nrows):
            for i in range(ncols):
                self.VIPs.append(VIP(table.row_values(k)[0],table.row_values(k)[1],table.row_values(k)[2],table.row_values(k)[3],table.row_values(k)[4],table.row_values(k)[5]))
    def Menu(self):
        while True:
            print("""
                         VIP信息管理系统
                   1.VIP用户登录
                   2.查询VIP信息
                   3.查询VIP用户
                   4.退出VIP系统
                  """)
            choice=input("请选择")
            if choice=="1":
                id=input("请输入用户编号")
                self.denglu(id)
            if choice=="2":
                self.Class()
            if choice=="3":
                id=input("请输入想要查看的用户编号")
                self.look(id)
            if choice=="4":
                print("欢迎下次使用VIP信息管理系统")
                self.key=0
                exit()
            else:
                print("请输入正确选择")
                continue
    def denglu(self,id):
        n=1
        for VIIP in self.VIPs:
            if VIIP.num==id:
                print("登录成功")
                self.person=VIIP
                n=0
                break
        if n==1:
            print("登录失败，请重新输入编号")
    def Class(self):
        print(self.person.num,self.person.lim,self.person.begin,self.person.value,self.person.grade)
        if self.person.grade==1.0:
            print("VIP等级不足无法查看其他成员信息")
        else:
            print("VIP等级足够可以访问")
            self.key=1
    def look(self,id):
        n=1
        if self.key==1:
            for per in self.VIPs:
                if id in per.num:
                    print(per.num,per.lim,per.begin,per.value,per.grade)
                    n=0
                    break
            if n==1:
                print("不存在该VIP用户")
        else:
            print("VIP等级不足无法查看其他成员信息")


xixi=VIPNUM()
xixi.Menu()



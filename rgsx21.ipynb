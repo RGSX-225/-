fid=open("example.fq")
fidd=fid.read()
fiddd=fidd.split("\n")
fiddd.pop(-1)
for i in range(3000):
    genu=fiddd[4*i+1]
    if genu.startswith("ACTGG") or genu.endswith("GAAAA") or genu.count("N")>5:
        fiddd.pop(4*i)
        fiddd.pop(4*i+1)
        fiddd.pop(4*i+2)
        fiddd.pop(4*i+3)
print(len(fiddd))           #没找到质量分割的位置

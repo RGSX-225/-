import json
student=[
    {
        "name":"向麒麟",
        "id":"U201610044"
    },
    {
        "name": "潘媚",
        "id": "U201610042"
    },
    {
        "name": "杨岚雅",
        "id": "U201610041"
    }
]
print(student[1])

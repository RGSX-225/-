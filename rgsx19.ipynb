fid=open("bjyx.txt","r")
#read()直接读取 readline()读取一条数据  readlines()读取所有数据（但换行被存为换行符\n） for按行读取 with open 自动关闭
typenum=[]
item={}
for f in fid:
    for i in f:
        if i in typenum:
            item[i]+=1
        else:
            typenum.append(i)
            item[i]=1
item.pop("，")
item.pop("。")
item.pop("\n")
item.pop("”")
item.pop("“")     #删除标点符号
item_sort=sorted(item.items(),key=lambda d:d[1],reverse=True)  #按个数对字典排序
print(item_sort)
for i in range(20):
    print(item_sort[i])  #输出排名前二十的汉字及次数
    txtname=item_sort[i][0]
    with open("rgsx"+txtname+".txt","a") as f:
        f.write(str(item_sort[i][1]))    #批次生产文件，文件名为汉字，文件内容为汉字出现次数

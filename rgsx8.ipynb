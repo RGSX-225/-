s=input("输入一串字符串")
letters=0
space=0
digit=0
others=0   #letters表示字母，space表示空格，digit表示数字，others表示其他字符
for i in s:
    if i.isalpha():
        letters+=1
    elif i.isspace():
        space+=1
    elif i.isdigit():
        digit+=1
    else:
        others+=1
print('char=%d,space=%d,digit=%d,others=%d'%(letters,space,digit,others))

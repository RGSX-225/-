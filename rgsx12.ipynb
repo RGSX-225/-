def Compress(L):
    n=len(L)
    Y=[]
    num=1
    for i in range(n):
        if i<n-1 and L[i]==L[i+1]:
            num+=1
        else:
            Y.append(L[i])
            Y.append(num)
            num=1
    return Y

def Restore(Y):
    n=len(Y)
    L=[]
    for i in range(int(n/2)):
        for j in range(Y[i*2+1]):
            L.append(Y[i*2])
    return L

L=[1,1,2,3,4,4,4,7,7,7,7,9,10,10,10]
Y=Compress(L)
L=Restore(Y)
print(Y,L)

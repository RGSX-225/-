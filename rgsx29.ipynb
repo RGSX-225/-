url="http://www.weather.com.cn/weather/101200101.shtml"   #武汉近七天的天气
import requests
response=requests.get(url).content
from bs4 import BeautifulSoup
soup=BeautifulSoup(response,"html.parser")
import re
riqi=re.findall('<h1>(.*?)</h1>',str(soup),re.S)
weather=re.findall('<p class="wea" title="(.*?)">',str(soup),re.S)
wendu=re.findall('<span>(-?[1-9]\d*)</span>(/)<i>(-?[1-9]\d*℃)</i>',str(soup),re.S)
for i in range(len(wendu)):
    wendu[i]=wendu[i][0]+wendu[i][1]+wendu[i][2]
feng=re.findall('<span class="([A-Z]+)" title="(.*?)"></span>',str(soup),re.S)
for i in range(7):
    feng[i]=feng[i*2]+feng[i*2+1]
import prettytable as pt
tb=pt.PrettyTable()
tb.field_names=riqi[0:7]
tb.add_row(weather)
tb.add_row(wendu[0:7])
tb.add_row(feng[0:7])
print(tb)

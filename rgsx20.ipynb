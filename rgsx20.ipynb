fid=open("ref.fasta")
fidd=fid.read()
fiddd=fidd.split("\n")
motifkeys=[]
item={}
for n in  range(18):
    genu=fiddd[n*2+1]
    for i in range(len(genu) - 2):
        if genu[i] + genu[i + 1] + genu[i + 2] not in motifkeys:
            motifkeys.append(genu[i] + genu[i + 1] + genu[i + 2])
            item[genu[i] + genu[i + 1] + genu[i + 2]] = 1
        else:
            item[genu[i] + genu[i + 1] + genu[i + 2]] += 1
with open("motif times.txt","a") as f:
    f.write(str(item))         #存放长度为3的motif名称以及出现次数
newfid=[]
num=1
for n in range(18):
    genu=fiddd[n*2+1]
    first=0
    for i in range(len(genu)-1):
        if genu[i]+genu[i+1]=="GG":
            newfid.append(">Gmod"+str(num))
            newfid.append(genu[first:i+1])
            num+=1
            first=i+1
    if first==0:
        newfid.append(">Gmod"+str(num))
        newfid.append(genu)
        num+=1
print(newfid)   #对所有GG进行分割，并将形成的基因代码存入新的newfid

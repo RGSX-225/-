import time
def Maxnum1(*number):   #直接法
    i=len(number)
    if i==1:
        return number[0]
    else:
        max=number[0]
        for n in number:
            if(n>max):
                max=n
        return max

def Maxnum2(*number): #冒泡排序
    firstList = [number[i] for i in range(len(number))]
    for i in range(len(number)):
        for j in range(i+1,len(number)):
            first=int(firstList[i])
            second=int(firstList[j])
            if first<second:
                firstList[i]=firstList[j]
                firstList[j]=first
    return firstList[0]

start_time=time.time()
print(Maxnum1(1,2,3,4,5,6,7,8,9,10,2,3,4,5,4,23,43,53,5,5,5,45,2,42,3,3,2,42,34,32,7))
end_time=time.time()
print("直接法的运行时间为",end_time-start_time)
start_time=time.time()
print(Maxnum2(1,2,3,4,5,6,7,8,9,10,2,3,4,5,4,23,43,53,5,5,5,45,2,42,3,3,2,42,34,32,7))
end_time=time.time()
print("二叉树的运行时间为",end_time-start_time)

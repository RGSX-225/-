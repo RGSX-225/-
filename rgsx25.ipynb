fid1=open("bjyx.txt")
fid2=open("bjyx1.txt")
typenum1=[]
item1={}
for f in fid1:
    for i in f:
        if i in typenum1:
            item1[i]+=1
        else:
            typenum1.append(i)
            item1[i]=1                              #寻找文件1中的高频词
typenum2=[]
item2={}
for f in fid2:
    for i in f:
        if i in typenum2:
            item2[i]+=1
        else:
            typenum2.append(i)
            item2[i]=1                         #寻找文件2中的高频词
item=[]
for i in item1:
    if i in item2:
        item.append(i)
n1=len(item1)
n=len(item)
if n<(n1/3):
    print("两个文件的高频词并不十分相似")
elif n>((n1/3)*2):
    print("两个文件的高频词非常相似")
else:
    print("两个文件的高频词有点相似")



rgsx_dict={
    1:"向麒麟",
    2:"潘媚",
    3:"杨岚雅"
}
print(dir(rgsx_dict))
#dict的内置函数有['__class__', '__contains__', '__delattr__', '__delitem__', '__dir__', '__doc__', '__eq__', '__format__', '__ge__', '__getattribute__', '__getitem__', '__gt__', '__hash__', '__init__', '__iter__', '__le__', '__len__', '__lt__', '__ne__', '__new__', '__reduce__', '__reduce_ex__', '__repr__', '__setattr__', '__setitem__', '__sizeof__', '__str__', '__subclasshook__', 'clear', 'copy', 'fromkeys', 'get', 'items', 'keys', 'pop', 'popitem', 'setdefault', 'update', 'values']

print(rgsx_dict.keys(),rgsx_dict.items(),rgsx_dict.values())
#可用.keys() .items() .values() 查看列表中元素

del rgsx_dict[1]
print(rgsx_dict)
#.del() 可删除以1为keys的元素，可删单一元素或整个字典

rgsx_dict.pop(3)
print(rgsx_dict)
#.pop()  可删除以3为kyes的元素，但仅可删除单一元素

rgsx_dict.clear()
print(rgsx_dict)
#.clear()  清空字典中所有元素

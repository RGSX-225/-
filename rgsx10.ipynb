'''
简述list和tuple两种数据类型的共同点和差异
list是一种有序的集合，称为列表，可以随时增加和删除其中的元素
tuple也是一种有序的集合，称为元组，但一旦初始化就不能修改
相同点：1.均可用下标索引取出元素list[0],tuple[1]
       2.均含有一些特殊功能的内置函数，包括len(),max(),min()等
       3.两者均为有序的集合，可以相互转换
不同点：1.list可通过内置函数append(),pop(),sort()等对元素进行修改，而tuple不含有这种功能
       2.lit=[ ]  tuple=( )
'''

listnum=[1,2,1,3,4]
print(dir(listnum))
#list的内置函数有['__add__', '__class__', '__contains__', '__delattr__', '__delitem__', '__dir__', '__doc__', '__eq__', '__format__', '__ge__', '__getattribute__', '__getitem__', '__gt__', '__hash__', '__iadd__', '__imul__', '__init__', '__iter__', '__le__', '__len__', '__lt__', '__mul__', '__ne__', '__new__', '__reduce__', '__reduce_ex__', '__repr__', '__reversed__', '__rmul__', '__setattr__', '__setitem__', '__sizeof__', '__str__', '__subclasshook__', 'append', 'clear', 'copy', 'count', 'extend', 'index', 'insert', 'pop', 'remove', 'reverse', 'sort']

listnum.append(5)
print(listnum)
#.append() 增加元素

listnum.pop(3)
print(listnum)
#.pop() 删除下标为3（第四个）元素

print(listnum.count(1))
#.count() 寻找列表中元素1的个数

listnum.remove(1)
#.remove() 移除列表中第一个值为1的元素

listnum.reverse()
print(listnum)
#.reverse() 反转列表中的元素

listnum.clear()
print(listnum)
#.clear() 清空列表

def ClassGrade(score):
    if score<0 or score>100:
        print("错误输入")
    elif(score<60):
        print("等级为E")
    elif(score<70):
        print("等级为D")
    elif(score<80):
        print("等级为C")
    elif(score<90):
        print("等级为B")
    else:
        print("等级为A")

ClassGrade(101)

def ClassGPA(score):
    try:
        if 0<=score<=100:
            if 90<=score<=100:
                print("GPA成绩为4.0")
            elif score>=80:
                print("GPA成绩为3.0")
            elif score>=70:
                print("GPA成绩为2.0")
            elif score>=60:
                print("GPA成绩为1.0")
            else:
                print("GPA成绩为0")
        else:
            raise Exception
    except Exception:
        print("错误输入")
    finally:
        print("GPA的计算")

ClassGPA(79)

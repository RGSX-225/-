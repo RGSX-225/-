url="https://search.jd.com/Search?keyword=python&enc=utf-8&qrst=1&rt=1&stop=1&vt=2&wq=python&psort=3&click=0"
import requests
headers={
    'User-Agent': 'Mozilla/5.0 (Windows NT 10.0; WOW64) AppleWebKit/537.36 (KHTML, like Gecko) Chrome/75.0.3770.100 Safari/537.36',
    'Cookie': 'unpl=V2_ZzNtbRdVQkUmDUZTcx8JVmJWFVRKUUBGJ11DUytJXgJuURpaclRCFX0URldnGl4UZwUZXUBcRxZFCEdkfiksBWYCEV9GVkodMFwEESBMBFBXMxFdclZzFXEOQFVzGlsHYwMXVEtVRBF9Ck5UeSlsBW8HIm0fDxxPMFwUDRUZbAJiBBdYQ1ZKJXQ4R2Qwd11IZwcUW0NfQBJ3DEZRchBeAmMLEFVCVXMURQs%3d; __jdv=76161171|c.linktech.cn|t_4_A100235089testjdid|tuiguang|d30ab41697db4d68972bcd46aa368c96|1577092636327; __jdu=1577092635148836593913; areaId=17; ipLoc-djd=17-1381-50718-0; PCSYCityID=CN_420000_420100_0; shshshfpa=ffb7f8e4-cc3a-03cd-cf75-19a362e3adf0-1577092639; shshshfpb=ffb7f8e4-cc3a-03cd-cf75-19a362e3adf0-1577092639; __jda=122270672.1577092635148836593913.1577092635.1577092635.1577092636.1; __jdc=122270672; 3AB9D23F7A4B3C9B=PLDCDHKNQTOY7ALW56A6I77NTZS56QFTE6DRR5LHM4S2UDRXAZ2AEB3ML2O7YMQNOBCGXQ5QQ6V6PSC3P7GVN7BZVU; xtest=4475.cf6b6759; rkv=V0300; qrsc=2; shshshfp=560dfd70e18396ca3305c51663a789ff; shshshsID=37eaa9aa64261178c8d39e2e8502568d_4_1577094209568; __jdb=122270672.6.1577092635148836593913|1.1577092636',
    'Accept': '*/*',
    'Accept-Encoding': 'gzip, deflate, br',
    'Accept-Language': 'zh-CN,zh;q=0.9',
    'Connection': 'keep-alive'
}
response=requests.get(url,headers=headers).content
from bs4 import BeautifulSoup
soup=BeautifulSoup(response,"html.parser")
import re
titles=re.findall('<i class="promo-words" id=".*?">(.*?)</i>',str(soup),re.S)
for title in titles:
    if len(title):
        print(title)

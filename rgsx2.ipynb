def Getnum(*number):
    firstList = [number[i] for i in range(len(number))]
    minnum=min(firstList)
    maxnum=max(firstList)
    firstList.sort()
    if len(number)%2==1:
        mednum=firstList[int((len(number)-1)/2)]
    else:
        mednum=(firstList[int(len(number)/2)]+firstList[int((len(number)-1)/2)])/2
    avgnum=sum(firstList)/len(number)
    summ=0
    for n in number:
        summ+=(n-avgnum)*(n-avgnum)
    s2num=summ/len(number)
    print("最小值为：",minnum,"最大值为：",maxnum,"中位数为：",mednum,"平均值为：",avgnum,"方差为：",s2num)

Getnum(1,2,3,4,6,7,5,8)

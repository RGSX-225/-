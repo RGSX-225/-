def student(name,sex,age,id,*major,**hobby):
    print("name:",name)
    print("sex:",sex)
    print("age:",age)
    print("id:",id)
    print("hobby:",hobby)
    print("majior",major)

student('向麒麟','女',19,'U201610044',"计算机与科学技术",'数学与应用数学',hobby1="睡觉",hobby2="吃饭")


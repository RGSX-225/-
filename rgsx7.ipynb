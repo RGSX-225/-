import sys,os
import getpass

i=0
while i<5:
    name=input("输入用户名：")
    lock_file=open('account_lock',"r+")
    lock_list=lock_file.readlines()
    for lock_line in lock_list:
        lock_line=lock_line.strip('\n')
        if name==lock_line:
            sys.exit("用户%s已经被锁定"%(name))
    user_file=open('account','r')
    user_list=user_file.readlines()
    for user_line in user_list:
        (user,password)=user_line.strip('\n').split()
        if name==user:
            j=0
            while j<5:
                passwd=input("请输入密码")
                if passwd==password:
                    print("用户登录成功")
                    sys.exit()
                elif j!=4:
                    print("密码错误重新输入")
                    j+=1
            else:
                lock_file.write(name+'\n')
                sys.exit('用户达到最大登录次数被锁定')
        else:
            pass
    else:
        if i!=4:
            print('用户名不存在，请重新输入')
    i+=1
else:
    sys.exit("用户不存在，退出")

lock_file.close()
user_file.close()

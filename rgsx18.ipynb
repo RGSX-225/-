total_set={1,2,3,4,5,6}
def Buset(L1):
    for i in L1:
        if total_set-i not in L1:
            L1.append(total_set-i)     #满足条件集合A在，那么A的补集也在

def Biset(L1):
    for i in L1:
        for j in L1:
            if i|j not in L1:
                L1.append(i|j)    #满足条件若集合A,B在,那么A与B的并集在

null_set=set()
set1={1}
set2={2}
set3={2,3}
Finally=[]
Finally.append(total_set)
Finally.append(null_set)   #必须包含空集和全集
Finally.append(set1)
Biset(Finally)
Buset(Finally)   #条件1 包含{1}的结果
#[{1, 2, 3, 4, 5, 6}, set(), {1}, {2, 3, 4, 5, 6}]
Finally.append(set2)
Biset(Finally)     #加入{2} 满足条件2
Buset(Finally)     #必须先满足并集，再满足补集，否则会漏下并集的补集
# [{1, 2, 3, 4, 5, 6}, set(), {1}, {2, 3, 4, 5, 6}, {2}, {1, 2}, {1, 3, 4, 5, 6}, {3, 4, 5, 6}]
Finally.clear()    #清空列表来再来满足条件3
Finally.append(total_set)
Finally.append(null_set)
Finally.append(set1)
Finally.append(set3)
Biset(Finally)
Buset(Finally)
#[{1, 2, 3, 4, 5, 6}, set(), {1}, {2, 3}, {1, 2, 3}, {2, 3, 4, 5, 6}, {1, 4, 5, 6}, {4, 5, 6}]
print(Finally)

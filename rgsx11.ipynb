L1=[1,2,3,4,5,6,7]
L2=[3,4,5,5,7,8,9]
def Common(L1,L2):
    L3=[] #存放L1和L2的共同元素
    for i in L1:
        if i in L2 and i not in L3:
            L3.append(i)
    print("L1与L2的共同元素为：",L3)

def Special(L1,L2):
    L4=[] #存放L1中特有的元素
    for i in L1:
        if i not in L2 and i not in L4:
            L4.append(i)
    print("L1中特有的元素为：",L4)

def Findl1(L1,L2,i):
    if i not in L1:
        print("元素不在L1中")
    elif i not in L2:
        print("元素不在L2中")
    else:
        n=1
        for j in range(len(L2)):
            if i==L2[j]:
                print("L1中元素",i,"在L2中第%d个位置为：%d"%(n,j+1))
                n+=1

Common(L1,L2)
Special(L1,L2)
Findl1(L1,L2,5)
